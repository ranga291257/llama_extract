{
 "cells": [
  {
   "cell_type": "markdown",
   "id": "7ec31923-0ac8-4455-b78d-2b6465c93af6",
   "metadata": {},
   "source": [
    "# Using LlamaExtract with Pydantic Models"
   ]
  },
  {
   "cell_type": "markdown",
   "id": "d159ec4f-7e83-46a9-a8fc-7c69b16b82fb",
   "metadata": {},
   "source": [
    "In this notebook, we should how to define data schema with `Pydantic` Models and extract structured data with `LlamaExtract`."
   ]
  },
  {
   "cell_type": "markdown",
   "id": "5cd78f3f-4d59-4205-ac02-9755af1c2842",
   "metadata": {},
   "source": [
    "### Setup"
   ]
  },
  {
   "cell_type": "markdown",
   "id": "e763c385-0daa-43fa-a95f-7c43fda6df1b",
   "metadata": {},
   "source": [
    "Install `llama-extract` client library."
   ]
  },
  {
   "cell_type": "code",
   "execution_count": 34,
   "id": "28716847-6f47-4b6f-bfd1-17658e218adc",
   "metadata": {},
   "outputs": [
    {
     "name": "stdout",
     "output_type": "stream",
     "text": [
      "\n",
      "\u001b[1m[\u001b[0m\u001b[34;49mnotice\u001b[0m\u001b[1;39;49m]\u001b[0m\u001b[39;49m A new release of pip is available: \u001b[0m\u001b[31;49m24.0\u001b[0m\u001b[39;49m -> \u001b[0m\u001b[32;49m24.1.2\u001b[0m\n",
      "\u001b[1m[\u001b[0m\u001b[34;49mnotice\u001b[0m\u001b[1;39;49m]\u001b[0m\u001b[39;49m To update, run: \u001b[0m\u001b[32;49mpip install --upgrade pip\u001b[0m\n",
      "Note: you may need to restart the kernel to use updated packages.\n"
     ]
    }
   ],
   "source": [
    "%pip install llama-extract > /dev/null"
   ]
  },
  {
   "cell_type": "code",
   "execution_count": 1,
   "id": "4910488b-7b5c-4cd4-9e57-7ee5ee65d74a",
   "metadata": {},
   "outputs": [],
   "source": [
    "import os\n",
    "\n",
    "os.environ[\"LLAMA_CLOUD_API_KEY\"] = \"llx-...\""
   ]
  },
  {
   "cell_type": "markdown",
   "id": "1dbdfc48-f4dc-4721-a8c7-f448bdad6afe",
   "metadata": {},
   "source": [
    "### Load data"
   ]
  },
  {
   "cell_type": "markdown",
   "id": "d07e56a1-64c6-4443-bfca-b3799551962e",
   "metadata": {},
   "source": [
    "For this demo, We use 3 sample resumes from [Resume Dataset](https://www.kaggle.com/datasets/gauravduttakiit/resume-dataset) from Kaggle (data is included in this repo)."
   ]
  },
  {
   "cell_type": "code",
   "execution_count": 2,
   "id": "a9259a49-3fb2-4b6a-bc9b-b06ae69504d6",
   "metadata": {},
   "outputs": [],
   "source": [
    "DATA_DIR = 'data/resumes'"
   ]
  },
  {
   "cell_type": "code",
   "execution_count": 3,
   "id": "6aac33a3-dc6a-4b10-a9f5-a8f308ce34e7",
   "metadata": {},
   "outputs": [
    {
     "data": {
      "text/plain": [
       "['data/resumes/14224370.pdf',\n",
       " 'data/resumes/12780508.pdf',\n",
       " 'data/resumes/19545827.pdf']"
      ]
     },
     "execution_count": 3,
     "metadata": {},
     "output_type": "execute_result"
    }
   ],
   "source": [
    "fnames = os.listdir(DATA_DIR)\n",
    "fnames = [fname for fname in fnames if fname.endswith('.pdf')]\n",
    "fpaths = [os.path.join(DATA_DIR, fname) for fname in fnames]\n",
    "fpaths"
   ]
  },
  {
   "cell_type": "markdown",
   "id": "c2446be5-43ae-4c47-940a-69481a817543",
   "metadata": {},
   "source": [
    "### Define a Pydantic Model"
   ]
  },
  {
   "cell_type": "markdown",
   "id": "10cece12-9199-4a8c-8ea1-45a98abfd730",
   "metadata": {},
   "source": [
    "First, let's define our data model with Pydantic."
   ]
  },
  {
   "cell_type": "code",
   "execution_count": 4,
   "id": "6d867ccf-71cf-425e-ba03-7b3ba29903b0",
   "metadata": {},
   "outputs": [],
   "source": [
    "from pydantic import BaseModel"
   ]
  },
  {
   "cell_type": "code",
   "execution_count": 5,
   "id": "82672963-e830-4889-9a5a-c934c950616d",
   "metadata": {},
   "outputs": [],
   "source": [
    "class Education(BaseModel):\n",
    "    degree: str\n",
    "    honors: str\n",
    "    institution: str\n",
    "    field_of_study: str\n",
    "    graudation_year: str\n",
    "    \n",
    "class Resume(BaseModel):\n",
    "    education: Education\n",
    "    summary: str"
   ]
  },
  {
   "cell_type": "markdown",
   "id": "2e5aac63-50e8-44c6-8d6c-f3b1cb9461ec",
   "metadata": {},
   "source": [
    "### Create schema"
   ]
  },
  {
   "cell_type": "markdown",
   "id": "d279927b-5446-4323-ac9d-b9456abceb0e",
   "metadata": {},
   "source": [
    "Let's use the `Pydantic` Model to define an extraction schema in `LlamaExtract`"
   ]
  },
  {
   "cell_type": "code",
   "execution_count": 6,
   "id": "9f9b3f21-7b0b-4220-a290-9f127c6def3c",
   "metadata": {},
   "outputs": [],
   "source": [
    "from llama_extract import LlamaExtract\n",
    "\n",
    "extractor = LlamaExtract(verbose=True)"
   ]
  },
  {
   "cell_type": "code",
   "execution_count": 7,
   "id": "8a1df10b-b380-4791-8df3-47e8cf307962",
   "metadata": {},
   "outputs": [],
   "source": [
    "schema_response = await extractor.acreate_schema('Resume Schema', data_schema=Resume)"
   ]
  },
  {
   "cell_type": "code",
   "execution_count": 39,
   "id": "d8e38724-22db-4ae6-9e26-a024b963e14a",
   "metadata": {},
   "outputs": [
    {
     "data": {
      "text/plain": [
       "{'type': 'object',\n",
       " '$defs': {'Education': {'type': 'object',\n",
       "   'title': 'Education',\n",
       "   'required': ['degree',\n",
       "    'honors',\n",
       "    'institution',\n",
       "    'field_of_study',\n",
       "    'graudation_year'],\n",
       "   'properties': {'degree': {'type': 'string', 'title': 'Degree'},\n",
       "    'honors': {'type': 'string', 'title': 'Honors'},\n",
       "    'institution': {'type': 'string', 'title': 'Institution'},\n",
       "    'field_of_study': {'type': 'string', 'title': 'Field Of Study'},\n",
       "    'graudation_year': {'type': 'string', 'title': 'Graudation Year'}}}},\n",
       " 'title': 'Resume',\n",
       " 'required': ['education', 'summary'],\n",
       " 'properties': {'summary': {'type': 'string', 'title': 'Summary'},\n",
       "  'education': {'$ref': '#/$defs/Education'}}}"
      ]
     },
     "execution_count": 39,
     "metadata": {},
     "output_type": "execute_result"
    }
   ],
   "source": [
    "schema_response.data_schema"
   ]
  },
  {
   "cell_type": "markdown",
   "id": "f27d35ff-d17b-49ca-925c-d49087e1b21b",
   "metadata": {},
   "source": [
    "### Run extraction"
   ]
  },
  {
   "cell_type": "markdown",
   "id": "3802cc18-83b2-42bc-af46-c068945c2169",
   "metadata": {},
   "source": [
    "Now that we have the schema, we can extract structured representation of our resume files.\n",
    "\n",
    "By specifying `Resume` as the response model. We can directly get extraction results that are validated."
   ]
  },
  {
   "cell_type": "code",
   "execution_count": 10,
   "id": "b406e2ee-e82d-401b-aab5-56e96e47dae1",
   "metadata": {},
   "outputs": [
    {
     "name": "stderr",
     "output_type": "stream",
     "text": [
      "Extracting files: 100%|██████████████████████████████████████████████████████████████████████████████████████████████████████████████████████| 3/3 [00:06<00:00,  2.22s/it]\n"
     ]
    }
   ],
   "source": [
    "responses, models = await extractor.aextract(schema_response.id, fpaths, response_model=Resume)"
   ]
  },
  {
   "cell_type": "code",
   "execution_count": 30,
   "id": "ddb47a6b-9d34-4ecc-8c50-2c1c705047f2",
   "metadata": {},
   "outputs": [
    {
     "name": "stdout",
     "output_type": "stream",
     "text": [
      "=====\n",
      "Summary:\t Degreed accountant with more than 10 years of diversified accounting experience seeking accounting position at a well-established company in Houston\n",
      "Institution:\t University of Houston\n",
      "=====\n",
      "Summary:\t Provided customers with prompt, accurate, courteous and professional banking service. Identified and referred sales opportunities to Relationship Bankers about products and services. Utilized several mediums such as phone and emails to help customers. Assisted customers with opening and closing of accounts. Answered and resolved problems that are within my authority. Accepted and processed loan applications and conduct loan interviews. Assisted members with their financial transactions, involving paying and receiving cash and other negotiable instruments. Maintained proper cash levels at the branch. Responsible for cash shipments to and from main office to the branch. Processed all commercial deposits, balanced vault daily. Responsible for equipment maintenance; assisted staff with balancing problems. Did random spot check with staff to ensure cash levels are within predetermined branch limits.\n",
      "Institution:\t University of Maryland\n",
      "=====\n",
      "Summary:\t Maintained a 4.0 GPA while completing 12 hours of upper level accounting courses.\n",
      "Institution:\t Marshall University\n"
     ]
    }
   ],
   "source": [
    "for model in models:\n",
    "    print('=====')\n",
    "    print('Summary:\\t', model.summary)\n",
    "    print('Institution:\\t', model.education.institution)"
   ]
  },
  {
   "cell_type": "markdown",
   "id": "75eb50f7-484d-4a99-90fa-a0ee2415ad30",
   "metadata": {},
   "source": [
    "You can also direclty work with raw JSON output."
   ]
  },
  {
   "cell_type": "code",
   "execution_count": 41,
   "id": "bcf0cf95-29a7-4fc6-945f-3d54c44bba8f",
   "metadata": {},
   "outputs": [
    {
     "data": {
      "text/plain": [
       "{'summary': 'Degreed accountant with more than 10 years of diversified accounting experience seeking accounting position at a well-established company in Houston',\n",
       " 'education': {'degree': \"Bachelor's degree\",\n",
       "  'honors': 'Cum Laude - Graduating With Honors',\n",
       "  'institution': 'University of Houston',\n",
       "  'field_of_study': 'accounting',\n",
       "  'graudation_year': '2005'}}"
      ]
     },
     "execution_count": 41,
     "metadata": {},
     "output_type": "execute_result"
    }
   ],
   "source": [
    "responses[0].data"
   ]
  }
 ],
 "metadata": {
  "kernelspec": {
   "display_name": "Python 3 (ipykernel)",
   "language": "python",
   "name": "python3"
  },
  "language_info": {
   "codemirror_mode": {
    "name": "ipython",
    "version": 3
   },
   "file_extension": ".py",
   "mimetype": "text/x-python",
   "name": "python",
   "nbconvert_exporter": "python",
   "pygments_lexer": "ipython3",
   "version": "3.11.3"
  }
 },
 "nbformat": 4,
 "nbformat_minor": 5
}
